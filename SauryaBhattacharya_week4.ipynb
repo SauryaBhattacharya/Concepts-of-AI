{
  "nbformat": 4,
  "nbformat_minor": 0,
  "metadata": {
    "colab": {
      "provenance": []
    },
    "kernelspec": {
      "name": "python3",
      "display_name": "Python 3"
    },
    "language_info": {
      "name": "python"
    }
  },
  "cells": [
    {
      "cell_type": "markdown",
      "source": [
        "**Problem - 1: Perform a classification task with knn from scratch.**"
      ],
      "metadata": {
        "id": "vs4ydG_yUJWI"
      }
    },
    {
      "cell_type": "markdown",
      "source": [
        "1. Load the Dataset:"
      ],
      "metadata": {
        "id": "Wc3Nm4LHUSuW"
      }
    },
    {
      "cell_type": "code",
      "execution_count": null,
      "metadata": {
        "colab": {
          "base_uri": "https://localhost:8080/"
        },
        "id": "aXamQkzpR3oi",
        "outputId": "06b9196c-395a-45b2-d59d-c35cb231ecf0"
      },
      "outputs": [
        {
          "output_type": "stream",
          "name": "stdout",
          "text": [
            "First 5 rows of the dataset:\n",
            "   Pregnancies  Glucose  BloodPressure  SkinThickness  Insulin   BMI  \\\n",
            "0            6      148             72             35        0  33.6   \n",
            "1            1       85             66             29        0  26.6   \n",
            "2            8      183             64              0        0  23.3   \n",
            "3            1       89             66             23       94  28.1   \n",
            "4            0      137             40             35      168  43.1   \n",
            "\n",
            "   DiabetesPedigreeFunction  Age  Outcome  \n",
            "0                     0.627   50        1  \n",
            "1                     0.351   31        0  \n",
            "2                     0.672   32        1  \n",
            "3                     0.167   21        0  \n",
            "4                     2.288   33        1  \n",
            "\n",
            "Missing values in each column:\n",
            "Pregnancies                 0\n",
            "Glucose                     0\n",
            "BloodPressure               0\n",
            "SkinThickness               0\n",
            "Insulin                     0\n",
            "BMI                         0\n",
            "DiabetesPedigreeFunction    0\n",
            "Age                         0\n",
            "Outcome                     0\n",
            "dtype: int64\n",
            "\n",
            "Summary statistics for numerical columns:\n",
            "       Pregnancies     Glucose  BloodPressure  SkinThickness     Insulin  \\\n",
            "count   768.000000  768.000000     768.000000     768.000000  768.000000   \n",
            "mean      3.845052  120.894531      69.105469      20.536458   79.799479   \n",
            "std       3.369578   31.972618      19.355807      15.952218  115.244002   \n",
            "min       0.000000    0.000000       0.000000       0.000000    0.000000   \n",
            "25%       1.000000   99.000000      62.000000       0.000000    0.000000   \n",
            "50%       3.000000  117.000000      72.000000      23.000000   30.500000   \n",
            "75%       6.000000  140.250000      80.000000      32.000000  127.250000   \n",
            "max      17.000000  199.000000     122.000000      99.000000  846.000000   \n",
            "\n",
            "              BMI  DiabetesPedigreeFunction         Age     Outcome  \n",
            "count  768.000000                768.000000  768.000000  768.000000  \n",
            "mean    31.992578                  0.471876   33.240885    0.348958  \n",
            "std      7.884160                  0.331329   11.760232    0.476951  \n",
            "min      0.000000                  0.078000   21.000000    0.000000  \n",
            "25%     27.300000                  0.243750   24.000000    0.000000  \n",
            "50%     32.000000                  0.372500   29.000000    0.000000  \n",
            "75%     36.600000                  0.626250   41.000000    1.000000  \n",
            "max     67.100000                  2.420000   81.000000    1.000000  \n",
            "\n",
            "Data types of the columns:\n",
            "Pregnancies                   int64\n",
            "Glucose                       int64\n",
            "BloodPressure                 int64\n",
            "SkinThickness                 int64\n",
            "Insulin                       int64\n",
            "BMI                         float64\n",
            "DiabetesPedigreeFunction    float64\n",
            "Age                           int64\n",
            "Outcome                       int64\n",
            "dtype: object\n"
          ]
        }
      ],
      "source": [
        "import pandas as pd\n",
        "\n",
        "#1 Read the dataset into a pandas DataFrame.\n",
        "file_path = \"/content/drive/MyDrive/Datasets-20241203T015332Z-001/Datasets/diabetes.csv\"\n",
        "df = pd.read_csv(file_path)\n",
        "\n",
        "#2 Display the first few rows and perform exploratory data analysis (EDA) to understand the dataset\n",
        "print(\"First 5 rows of the dataset:\")\n",
        "print(df.head())\n",
        "\n",
        "print(\"\\nMissing values in each column:\")\n",
        "print(df.isnull().sum())\n",
        "\n",
        "print(\"\\nSummary statistics for numerical columns:\")\n",
        "print(df.describe())\n",
        "\n",
        "print(\"\\nData types of the columns:\")\n",
        "print(df.dtypes)\n"
      ]
    },
    {
      "cell_type": "markdown",
      "source": [
        "2. Handle Missing Data:"
      ],
      "metadata": {
        "id": "rpqIci2dWBkP"
      }
    },
    {
      "cell_type": "code",
      "source": [
        "import pandas as pd\n",
        "file_path = \"/content/drive/MyDrive/Datasets-20241203T015332Z-001/Datasets/diabetes.csv\"\n",
        "df = pd.read_csv(file_path)\n",
        "\n",
        "print(\"Missing values in each column:\")\n",
        "print(df.isnull().sum())\n",
        "#1 Handle any missing values appropriately, either by dropping or imputing them based on the data.\n",
        "df.fillna(df.mean(), inplace=True)\n",
        "print(\"\\nMissing values in each column after handling:\")\n",
        "print(df.isnull().sum())"
      ],
      "metadata": {
        "colab": {
          "base_uri": "https://localhost:8080/"
        },
        "id": "AQQ07lprWETh",
        "outputId": "d304d6ae-c6c7-4cf0-cd30-31ab0d2732fc"
      },
      "execution_count": null,
      "outputs": [
        {
          "output_type": "stream",
          "name": "stdout",
          "text": [
            "Missing values in each column:\n",
            "Pregnancies                 0\n",
            "Glucose                     0\n",
            "BloodPressure               0\n",
            "SkinThickness               0\n",
            "Insulin                     0\n",
            "BMI                         0\n",
            "DiabetesPedigreeFunction    0\n",
            "Age                         0\n",
            "Outcome                     0\n",
            "dtype: int64\n",
            "\n",
            "Missing values in each column after handling:\n",
            "Pregnancies                 0\n",
            "Glucose                     0\n",
            "BloodPressure               0\n",
            "SkinThickness               0\n",
            "Insulin                     0\n",
            "BMI                         0\n",
            "DiabetesPedigreeFunction    0\n",
            "Age                         0\n",
            "Outcome                     0\n",
            "dtype: int64\n"
          ]
        }
      ]
    },
    {
      "cell_type": "markdown",
      "source": [
        "3. Feature Engineering:"
      ],
      "metadata": {
        "id": "87m6CRwoZPEm"
      }
    },
    {
      "cell_type": "code",
      "source": [
        "import pandas as pd\n",
        "import numpy as np\n",
        "file_path = \"/content/drive/MyDrive/Datasets-20241203T015332Z-001/Datasets/diabetes.csv\"\n",
        "df = pd.read_csv(file_path)\n",
        "\n",
        "#1 Separate the feature matrix (X) and target variable (y).\n",
        "X = df.drop('Outcome', axis=1).values\n",
        "y = df['Outcome'].values\n",
        "\n",
        "#2 Perform a train - test split from scratch using a 70% − 30% ratio.\n",
        "np.random.seed(42)\n",
        "indices = np.random.permutation(len(df))\n",
        "split_index = int(0.7 * X.shape[0])\n",
        "X_train = X[indices[:split_index]]\n",
        "y_train = y[indices[:split_index]]\n",
        "X_test = X[indices[split_index:]]\n",
        "y_test = y[indices[split_index:]]\n",
        "\n",
        "print(\"The training set shapes: X_train =\", X_train.shape, \", y_train =\", y_train.shape)\n",
        "print(\"The test set shapes: X_test =\", X_test.shape, \", y_test =\", y_test.shape)"
      ],
      "metadata": {
        "colab": {
          "base_uri": "https://localhost:8080/"
        },
        "id": "5tYwczk9Y7vX",
        "outputId": "86004acc-b246-4803-fdcd-9bec45f854a3"
      },
      "execution_count": null,
      "outputs": [
        {
          "output_type": "stream",
          "name": "stdout",
          "text": [
            "The training set shapes: X_train = (537, 8) , y_train = (537,)\n",
            "The test set shapes: X_test = (231, 8) , y_test = (231,)\n"
          ]
        }
      ]
    },
    {
      "cell_type": "markdown",
      "source": [
        "4. Implement KNN:"
      ],
      "metadata": {
        "id": "6QHGdrB4ctT8"
      }
    },
    {
      "cell_type": "code",
      "source": [
        "import numpy as np\n",
        "from collections import Counter\n",
        "\n",
        "def euclidean_distance(x1, x2):\n",
        "    return np.sqrt(np.sum((x1 - x2) ** 2))\n",
        "\n",
        "class KNN:\n",
        "    def __init__(self, k):\n",
        "        self.k = k  # Number of nearest neighbors\n",
        "\n",
        "    def fit(self, X_train, y_train):\n",
        "        self.X_train = X_train\n",
        "        self.y_train = y_train\n",
        "\n",
        "    def predict_single(self, x):\n",
        "        distances = [euclidean_distance(x, x_train) for x_train in self.X_train]\n",
        "        k_indices = np.argsort(distances)[:self.k]\n",
        "        k_nearest_labels = [self.y_train[i] for i in k_indices]\n",
        "        most_common = Counter(k_nearest_labels).most_common(1)\n",
        "        return most_common[0][0]\n",
        "\n",
        "    def predict(self, X_test):\n",
        "        predictions = [self.predict_single(x) for x in X_test]\n",
        "        return np.array(predictions)\n",
        "k = 3\n",
        "knn = KNN(k=k)\n",
        "knn.fit(X_train, y_train)\n",
        "predictions = knn.predict(X_test)\n",
        "accuracy = np.mean(predictions == y_test)\n",
        "print(f\"KNN Accuracy: {accuracy:.2f}\")\n"
      ],
      "metadata": {
        "colab": {
          "base_uri": "https://localhost:8080/"
        },
        "id": "BhN48Cp_dHJA",
        "outputId": "c854ca98-1e10-4f72-972f-9292c466c3ff"
      },
      "execution_count": null,
      "outputs": [
        {
          "output_type": "stream",
          "name": "stdout",
          "text": [
            "KNN Accuracy: 0.70\n"
          ]
        }
      ]
    },
    {
      "cell_type": "markdown",
      "source": [
        "**Problem - 2 - Experimentation:**"
      ],
      "metadata": {
        "id": "Y5PwnYl1jJII"
      }
    },
    {
      "cell_type": "code",
      "source": [
        "# 1\n",
        "import numpy as np\n",
        "from collections import Counter\n",
        "import pandas as pd\n",
        "file_path = \"/content/drive/MyDrive/Datasets-20241203T015332Z-001/Datasets/diabetes.csv\"\n",
        "df = pd.read_csv(file_path)\n",
        "\n",
        "def euclidean_distance(x1, x2):\n",
        "    return np.sqrt(np.sum((x1 - x2) ** 2))\n",
        "\n",
        "class KNN:\n",
        "    def __init__(self, k):\n",
        "        self.k = k\n",
        "\n",
        "    def fit(self, X_train, y_train):\n",
        "        self.X_train = X_train\n",
        "        self.y_train = y_train\n",
        "\n",
        "    def predict_single(self, x):\n",
        "        distances = [euclidean_distance(x, x_train) for x_train in self.X_train]\n",
        "\n",
        "        k_indices = np.argsort(distances)[:self.k]\n",
        "\n",
        "        k_nearest_labels = [self.y_train[i] for i in k_indices]\n",
        "        most_common = Counter(k_nearest_labels).most_common(1)\n",
        "        return most_common[0][0]\n",
        "\n",
        "    def predict(self, X_test):\n",
        "        predictions = [self.predict_single(x) for x in X_test]\n",
        "        return np.array(predictions)\n",
        "\n",
        "def standardize(X):\n",
        "  return (X - np.mean(X, axis=0)) / np.std(X, axis=0)\n",
        "\n",
        "X_train_scaled = standardize(X_train)\n",
        "X_test_scaled = standardize(X_test)\n",
        "k = 3\n",
        "knn = KNN(k=k)\n",
        "knn.fit(X_train_scaled, y_train)\n",
        "predictions = knn.predict(X_test_scaled)\n",
        "accuracy = np.mean(predictions == y_test)\n",
        "print(f\"KNN  Accuracy: {accuracy:.2f}\")"
      ],
      "metadata": {
        "id": "upFqQmB9jMaS",
        "colab": {
          "base_uri": "https://localhost:8080/"
        },
        "outputId": "31a17b1b-8ec6-4ef6-9456-30781ce13cc2"
      },
      "execution_count": null,
      "outputs": [
        {
          "output_type": "stream",
          "name": "stdout",
          "text": [
            "KNN  Accuracy: 0.73\n"
          ]
        }
      ]
    },
    {
      "cell_type": "code",
      "source": [
        "import numpy as np\n",
        "import pandas as pd\n",
        "from sklearn.model_selection import train_test_split\n",
        "from sklearn.neighbors import KNeighborsClassifier\n",
        "from sklearn.preprocessing import StandardScaler\n",
        "from sklearn.metrics import accuracy_score, confusion_matrix, classification_report\n",
        "\n",
        "file_path = \"/content/drive/MyDrive/Datasets-20241203T015332Z-001/Datasets/diabetes.csv\"\n",
        "df = pd.read_csv(file_path)\n",
        "\n",
        "X = df.drop('Outcome', axis=1).values  # Features\n",
        "y = df['Outcome'].values  # Target variable\n",
        "X_train, X_test, y_train, y_test = train_test_split(X, y, test_size=0.3, random_state=42)\n",
        "\n",
        "# 1. Training kNN on the original dataset\n",
        "knn_original = KNeighborsClassifier(n_neighbors=5)\n",
        "knn_original.fit(X_train, y_train)\n",
        "y_pred_original = knn_original.predict(X_test)\n",
        "\n",
        "# Evaluate the performance on the original dataset\n",
        "accuracy_original = accuracy_score(y_test, y_pred_original)\n",
        "print(\"Accuracy on original dataset:\", accuracy_original)\n",
        "print(\"Confusion Matrix (Original Dataset):\\n\", confusion_matrix(y_test, y_pred_original))\n",
        "print(\"Classification Report (Original Dataset):\\n\", classification_report(y_test, y_pred_original))\n",
        "\n",
        "# 2. Scaling the dataset\n",
        "scaler = StandardScaler()\n",
        "X_train_scaled = scaler.fit_transform(X_train)\n",
        "X_test_scaled = scaler.transform(X_test)\n",
        "\n",
        "# Training kNN on the scaled dataset\n",
        "knn_scaled = KNeighborsClassifier(n_neighbors=5)\n",
        "knn_scaled.fit(X_train_scaled, y_train)\n",
        "y_pred_scaled = knn_scaled.predict(X_test_scaled)\n",
        "\n",
        "# Evaluate the performance on the scaled dataset\n",
        "accuracy_scaled = accuracy_score(y_test, y_pred_scaled)\n",
        "print(\"\\nAccuracy on scaled dataset:\", accuracy_scaled)\n",
        "print(\"Confusion Matrix (Scaled Dataset):\\n\", confusion_matrix(y_test, y_pred_scaled))\n",
        "print(\"Classification Report (Scaled Dataset):\\n\", classification_report(y_test, y_pred_scaled))\n",
        "\n",
        "# 3. Comparison Summary\n",
        "print(\"\\nComparison Summary:\")\n",
        "print(f\"Accuracy (Original Dataset): {accuracy_original}\")\n",
        "print(f\"Accuracy (Scaled Dataset): {accuracy_scaled}\")\n"
      ],
      "metadata": {
        "colab": {
          "base_uri": "https://localhost:8080/"
        },
        "id": "U13_IhBoOYs0",
        "outputId": "3729c5f9-a3c8-4656-80c0-f2f4cb69f470"
      },
      "execution_count": null,
      "outputs": [
        {
          "output_type": "stream",
          "name": "stdout",
          "text": [
            "Accuracy on original dataset: 0.6883116883116883\n",
            "Confusion Matrix (Original Dataset):\n",
            " [[114  37]\n",
            " [ 35  45]]\n",
            "Classification Report (Original Dataset):\n",
            "               precision    recall  f1-score   support\n",
            "\n",
            "           0       0.77      0.75      0.76       151\n",
            "           1       0.55      0.56      0.56        80\n",
            "\n",
            "    accuracy                           0.69       231\n",
            "   macro avg       0.66      0.66      0.66       231\n",
            "weighted avg       0.69      0.69      0.69       231\n",
            "\n",
            "\n",
            "Accuracy on scaled dataset: 0.7012987012987013\n",
            "Confusion Matrix (Scaled Dataset):\n",
            " [[119  32]\n",
            " [ 37  43]]\n",
            "Classification Report (Scaled Dataset):\n",
            "               precision    recall  f1-score   support\n",
            "\n",
            "           0       0.76      0.79      0.78       151\n",
            "           1       0.57      0.54      0.55        80\n",
            "\n",
            "    accuracy                           0.70       231\n",
            "   macro avg       0.67      0.66      0.67       231\n",
            "weighted avg       0.70      0.70      0.70       231\n",
            "\n",
            "\n",
            "Comparison Summary:\n",
            "Accuracy (Original Dataset): 0.6883116883116883\n",
            "Accuracy (Scaled Dataset): 0.7012987012987013\n"
          ]
        }
      ]
    },
    {
      "cell_type": "markdown",
      "source": [
        "How Scaling Influences KNN Performance:\n",
        "KNN calculates distances between data points to make predictions, and differences in feature scales can significantly impact these calculations. When one feature has a much larger range than others, it can dominate the distance metric, leading to biased predictions. Scaling ensures that all features are normalized to have equal influence, preventing any single feature from disproportionately affecting the results. This equalization allows KNN to consider all features fairly, leading to improved prediction accuracy, particularly when features have varying units or scales.\n",
        "\n",
        "Why Accuracy Changes with Scaling:\n",
        "Scaling typically enhances KNN accuracy by removing the bias caused by features with larger ranges. When data is scaled, all features contribute equally, resulting in more reliable predictions. If the features already have similar ranges, scaling may have little to no impact on accuracy. In rare cases, it could even slightly reduce accuracy due to minor numerical errors. However, for datasets with features of diverse ranges, scaling generally improves the algorithm’s performance significantly."
      ],
      "metadata": {
        "id": "_RDYfOkcvZSe"
      }
    },
    {
      "cell_type": "markdown",
      "source": [
        "**Problem - 3 - Experimentation with k:**"
      ],
      "metadata": {
        "id": "w8jZYBUaPxJi"
      }
    },
    {
      "cell_type": "code",
      "source": [
        "import numpy as np\n",
        "import pandas as pd\n",
        "from collections import Counter\n",
        "import time\n",
        "import matplotlib.pyplot as plt\n",
        "\n",
        "Euclidean_Distance = lambda x1, x2: np.sqrt(np.sum((x1 - x2)**2))\n",
        "\n",
        "class KNN:\n",
        "    def __init__(self, k=3):\n",
        "        self.k = k\n",
        "\n",
        "    def fit(self, X, y):\n",
        "        self.X_train, self.y_train = X, y\n",
        "\n",
        "    def predict(self, X):\n",
        "        return [self._predict(x) for x in X]\n",
        "\n",
        "    def _predict(self, x):\n",
        "        distances = [Euclidean_Distance(x, x_train) for x_train in self.X_train]\n",
        "        k_nearest = [self.y_train[i] for i in np.argsort(distances)[:self.k]]\n",
        "        return Counter(k_nearest).most_common(1)[0][0]\n",
        "\n",
        "def standardize(X):\n",
        "    return (X - np.mean(X, axis=0)) / np.std(X, axis=0)\n",
        "\n",
        "file_path = \"/content/drive/MyDrive/Datasets-20241203T015332Z-001/Datasets/diabetes.csv\"\n",
        "df = pd.read_csv(file_path)\n",
        "\n",
        "X, y = df.iloc[:, :-1].values, df.iloc[:, -1].values\n",
        "\n",
        "split = int(0.8 * len(X))\n",
        "X_train, X_test, y_train, y_test = X[:split], X[split:], y[:split], y[split:]\n",
        "\n",
        "k_values = list(range(1, 16))\n",
        "accuracy_original = []\n",
        "accuracy_scaled = []\n",
        "time_original = []\n",
        "time_scaled = []\n",
        "\n",
        "for k in k_values:\n",
        "    knn = KNN(k=k)\n",
        "\n",
        "    knn.fit(X_train, y_train)\n",
        "    start_time = time.time()\n",
        "    y_pred_original = knn.predict(X_test)\n",
        "    time_taken_original = time.time() - start_time\n",
        "\n",
        "    accuracy_original.append(np.mean(y_test == y_pred_original) * 100)\n",
        "    time_original.append(time_taken_original)\n",
        "\n",
        "    X_train_scaled = standardize(X_train)\n",
        "    X_test_scaled = standardize(X_test)\n",
        "    knn.fit(X_train_scaled, y_train)\n",
        "    start_time = time.time()\n",
        "    y_pred_scaled = knn.predict(X_test_scaled)\n",
        "    time_taken_scaled = time.time() - start_time\n",
        "\n",
        "    accuracy_scaled.append(np.mean(y_test == y_pred_scaled) * 100)\n",
        "    time_scaled.append(time_taken_scaled)\n",
        "\n",
        "print(\"k | Accuracy (Original) | Time (Original) | Accuracy (Scaled) | Time (Scaled)\")\n",
        "for i, k in enumerate(k_values):\n",
        "    print(f\"{k} | {accuracy_original[i]:.2f}% | {time_original[i]:.4f}s | {accuracy_scaled[i]:.2f}% | {time_scaled[i]:.4f}s\")\n",
        "\n",
        "# Plot results\n",
        "plt.figure(figsize=(12, 6))\n",
        "\n",
        "# Accuracy plot\n",
        "plt.subplot(1, 2, 1)\n",
        "plt.plot(k_values, accuracy_original, label='Original Dataset', marker='o', color='b')\n",
        "plt.plot(k_values, accuracy_scaled, label='Scaled Dataset', marker='x', color='r')\n",
        "plt.title('k vs. Accuracy')\n",
        "plt.xlabel('k (Number of Neighbors)')\n",
        "plt.ylabel('Accuracy (%)')\n",
        "plt.legend()\n",
        "\n",
        "# Time plot\n",
        "plt.subplot(1, 2, 2)\n",
        "plt.plot(k_values, time_original, label='Original Dataset', marker='o', color='b')\n",
        "plt.plot(k_values, time_scaled, label='Scaled Dataset', marker='x', color='r')\n",
        "plt.title('k vs. Time Taken')\n",
        "plt.xlabel('k (Number of Neighbors)')\n",
        "plt.ylabel('Time (Seconds)')\n",
        "plt.legend()\n",
        "\n",
        "plt.tight_layout()\n",
        "plt.show()\n"
      ],
      "metadata": {
        "id": "gmoX7YxOP0Xw",
        "colab": {
          "base_uri": "https://localhost:8080/",
          "height": 885
        },
        "outputId": "8525f0f0-961e-4371-92b3-660452b30845"
      },
      "execution_count": 2,
      "outputs": [
        {
          "output_type": "stream",
          "name": "stdout",
          "text": [
            "k | Accuracy (Original) | Time (Original) | Accuracy (Scaled) | Time (Scaled)\n",
            "1 | 61.69% | 0.7130s | 72.08% | 1.3708s\n",
            "2 | 61.69% | 1.1648s | 72.08% | 0.6191s\n",
            "3 | 68.18% | 0.6278s | 73.38% | 0.5867s\n",
            "4 | 67.53% | 0.6071s | 75.32% | 1.0510s\n",
            "5 | 70.13% | 1.0830s | 72.73% | 1.0491s\n",
            "6 | 69.48% | 1.0842s | 76.62% | 0.6842s\n",
            "7 | 72.08% | 0.6535s | 74.03% | 0.6564s\n",
            "8 | 70.78% | 0.6498s | 74.03% | 0.6469s\n",
            "9 | 70.78% | 0.5997s | 73.38% | 0.6035s\n",
            "10 | 70.13% | 0.6006s | 76.62% | 0.5970s\n",
            "11 | 71.43% | 0.6052s | 73.38% | 0.5874s\n",
            "12 | 72.08% | 0.6791s | 75.97% | 0.6461s\n",
            "13 | 72.08% | 0.6048s | 75.32% | 0.6191s\n",
            "14 | 71.43% | 0.6143s | 75.97% | 1.0782s\n",
            "15 | 70.78% | 1.2482s | 75.97% | 1.0450s\n"
          ]
        },
        {
          "output_type": "display_data",
          "data": {
            "text/plain": [
              "<Figure size 1200x600 with 2 Axes>"
            ],
            "image/png": "[encoded data removed]"
          },
          "metadata": {}
        }
      ]
    },
    {
      "cell_type": "markdown",
      "source": [
        "Both computation time and accuracy are influenced by the value of\n",
        "𝑘\n",
        "k. For scaled data, the highest accuracy of 76.62% is achieved at\n",
        "𝑘\n",
        "=\n",
        "6\n",
        "k=6 and\n",
        "𝑘\n",
        "=\n",
        "10\n",
        "k=10. For the original data, the maximum accuracy is 72.08%, observed at\n",
        "𝑘\n",
        "=\n",
        "7\n",
        "k=7 and\n",
        "𝑘\n",
        "=\n",
        "12\n",
        "k=12. Scaling the data enhances accuracy overall. However, larger\n",
        "𝑘\n",
        "k values, such as\n",
        "𝑘\n",
        "=\n",
        "4\n",
        "k=4,\n",
        "𝑘\n",
        "=\n",
        "14\n",
        "k=14, and\n",
        "𝑘\n",
        "=\n",
        "15\n",
        "k=15, require more computation time. Considering both accuracy and computation time,\n",
        "𝑘\n",
        "=\n",
        "6\n",
        "k=6 emerges as the optimal choice, offering the best accuracy with manageable computation time."
      ],
      "metadata": {
        "id": "Pvv3RHNKub_T"
      }
    }
  ]
}